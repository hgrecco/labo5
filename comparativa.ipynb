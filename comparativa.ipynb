{
 "cells": [
  {
   "cell_type": "code",
   "execution_count": null,
   "metadata": {},
   "outputs": [],
   "source": [
    "import numpy as np\n",
    "import scipy as sp\n",
    "from scipy.io import wavfile\n",
    "from matplotlib import pyplot as plt\n",
    "import IPython.display as ipd"
   ]
  },
  {
   "cell_type": "code",
   "execution_count": null,
   "metadata": {},
   "outputs": [],
   "source": [
    "ipd.Audio(\"tone.wav\")"
   ]
  },
  {
   "cell_type": "code",
   "execution_count": null,
   "metadata": {},
   "outputs": [],
   "source": [
    "ipd.Audio(\"tone_lq.wav\")"
   ]
  },
  {
   "cell_type": "code",
   "execution_count": null,
   "metadata": {},
   "outputs": [],
   "source": [
    "def read(filename):\n",
    "    rate, data = wavfile.read(filename)\n",
    "    length = data.shape[0] / rate\n",
    "    time = np.linspace(0, length, data.shape[0], endpoint=False)\n",
    "    return time, data\n",
    "\n",
    "def print_info(time, data):\n",
    "    print(f\"time: {time}\")\n",
    "    print(f\"data: {data}\")\n",
    "    print(f\"rate: {1/(time[1]-time[0])} Hz\")\n",
    "    print(f\"duration: {time[-1]+time[1]} s\")\n",
    "    print(f\"shape: {data.shape}\")\n",
    "    print(f\"dtype: {data.dtype}\")"
   ]
  },
  {
   "cell_type": "code",
   "execution_count": null,
   "metadata": {},
   "outputs": [],
   "source": [
    "time, data = read(\"tone.wav\")\n",
    "print_info(time, data)"
   ]
  },
  {
   "cell_type": "code",
   "execution_count": null,
   "metadata": {},
   "outputs": [],
   "source": [
    "time_lq, data_lq = read(\"tone_lq.wav\")\n",
    "print_info(time_lq, data_lq)"
   ]
  },
  {
   "cell_type": "code",
   "execution_count": null,
   "metadata": {},
   "outputs": [],
   "source": [
    "plt.plot(time[:200], data[:200])\n",
    "plt.plot(time_lq[:200], data_lq[:200])"
   ]
  },
  {
   "cell_type": "code",
   "execution_count": null,
   "metadata": {},
   "outputs": [],
   "source": [
    "plt.plot(time[:200], data[:200], 'o')\n",
    "plt.plot(time_lq[:200], data_lq[:200], 'x')"
   ]
  },
  {
   "cell_type": "code",
   "execution_count": null,
   "metadata": {},
   "outputs": [],
   "source": [
    "plt.plot(time[time< 0.001], data[time< 0.001], 's')\n",
    "plt.plot(time_lq[time_lq< 0.001], data_lq[time_lq< 0.001], '.')"
   ]
  }
 ],
 "metadata": {
  "kernelspec": {
   "display_name": "Python 3",
   "language": "python",
   "name": "python3"
  },
  "language_info": {
   "codemirror_mode": {
    "name": "ipython",
    "version": 3
   },
   "file_extension": ".py",
   "mimetype": "text/x-python",
   "name": "python",
   "nbconvert_exporter": "python",
   "pygments_lexer": "ipython3",
   "version": "3.8.2"
  }
 },
 "nbformat": 4,
 "nbformat_minor": 4
}
